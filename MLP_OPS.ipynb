{
 "cells": [
  {
   "cell_type": "markdown",
   "id": "99b48967-ce81-4821-a202-98089f50de24",
   "metadata": {},
   "source": [
    "!pip3 uninstall -y torch torchvision"
   ]
  },
  {
   "cell_type": "markdown",
   "id": "12e4e6de-c495-4463-9386-d2c4bd6f4a25",
   "metadata": {},
   "source": [
    "!pip3 install torch torchvision"
   ]
  },
  {
   "cell_type": "code",
   "execution_count": 1,
   "id": "901fd16c-0333-47eb-8eef-8f56694e578f",
   "metadata": {},
   "outputs": [],
   "source": [
    "import torch\n",
    "# import the data\n",
    "import pandas as pd"
   ]
  },
  {
   "cell_type": "code",
   "execution_count": 3,
   "id": "d9bf1ef0-b530-48fc-9108-3e897cc9dffd",
   "metadata": {},
   "outputs": [],
   "source": [
    "import os\n",
    "os.environ[\"KERAS_BACKEND\"] = \"torch\""
   ]
  },
  {
   "cell_type": "code",
   "execution_count": 5,
   "id": "0f18b031-c4ce-4afd-9f27-0174865692c4",
   "metadata": {},
   "outputs": [],
   "source": [
    "import numpy as np\n",
    "import keras\n",
    "from keras import layers\n",
    "# from tensorflow import data as tf_data\n",
    "# import matplotlib.pyplot as plt"
   ]
  },
  {
   "cell_type": "code",
   "execution_count": 7,
   "id": "00071ec5-5b9e-4ce8-b5f8-5a77770885d2",
   "metadata": {},
   "outputs": [],
   "source": [
    "# split it like above\n",
    "\n",
    "# do the shaping if necessary\n",
    "# change the type of the columns that are characters to one-hot-encodings or something like that\n",
    "\n",
    "# make a model with one layer\n",
    "# run the model and see what happens"
   ]
  },
  {
   "cell_type": "code",
   "execution_count": 9,
   "id": "cda5d390-61b8-47c5-a5a7-b0de2d332e5d",
   "metadata": {},
   "outputs": [
    {
     "name": "stdout",
     "output_type": "stream",
     "text": [
      "       Administrative  Administrative_Duration  Informational  \\\n",
      "0                   0                      0.0              0   \n",
      "1                   0                      0.0              0   \n",
      "2                   0                      0.0              0   \n",
      "3                   0                      0.0              0   \n",
      "4                   0                      0.0              0   \n",
      "...               ...                      ...            ...   \n",
      "12325               3                    145.0              0   \n",
      "12326               0                      0.0              0   \n",
      "12327               0                      0.0              0   \n",
      "12328               4                     75.0              0   \n",
      "12329               0                      0.0              0   \n",
      "\n",
      "       Informational_Duration  ProductRelated  ProductRelated_Duration  \\\n",
      "0                         0.0               1                 0.000000   \n",
      "1                         0.0               2                64.000000   \n",
      "2                         0.0               1                 0.000000   \n",
      "3                         0.0               2                 2.666667   \n",
      "4                         0.0              10               627.500000   \n",
      "...                       ...             ...                      ...   \n",
      "12325                     0.0              53              1783.791667   \n",
      "12326                     0.0               5               465.750000   \n",
      "12327                     0.0               6               184.250000   \n",
      "12328                     0.0              15               346.000000   \n",
      "12329                     0.0               3                21.250000   \n",
      "\n",
      "       BounceRates  ExitRates  PageValues  SpecialDay Month  OperatingSystems  \\\n",
      "0         0.200000   0.200000    0.000000         0.0   Feb                 1   \n",
      "1         0.000000   0.100000    0.000000         0.0   Feb                 2   \n",
      "2         0.200000   0.200000    0.000000         0.0   Feb                 4   \n",
      "3         0.050000   0.140000    0.000000         0.0   Feb                 3   \n",
      "4         0.020000   0.050000    0.000000         0.0   Feb                 3   \n",
      "...            ...        ...         ...         ...   ...               ...   \n",
      "12325     0.007143   0.029031   12.241717         0.0   Dec                 4   \n",
      "12326     0.000000   0.021333    0.000000         0.0   Nov                 3   \n",
      "12327     0.083333   0.086667    0.000000         0.0   Nov                 3   \n",
      "12328     0.000000   0.021053    0.000000         0.0   Nov                 2   \n",
      "12329     0.000000   0.066667    0.000000         0.0   Nov                 3   \n",
      "\n",
      "       Browser  Region  TrafficType        VisitorType  Weekend  Revenue  \n",
      "0            1       1            1  Returning_Visitor    False    False  \n",
      "1            2       1            2  Returning_Visitor    False    False  \n",
      "2            1       9            3  Returning_Visitor    False    False  \n",
      "3            2       2            4  Returning_Visitor    False    False  \n",
      "4            3       1            4  Returning_Visitor     True    False  \n",
      "...        ...     ...          ...                ...      ...      ...  \n",
      "12325        6       1            1  Returning_Visitor     True    False  \n",
      "12326        2       1            8  Returning_Visitor     True    False  \n",
      "12327        2       1           13  Returning_Visitor     True    False  \n",
      "12328        2       3           11  Returning_Visitor    False    False  \n",
      "12329        2       1            2        New_Visitor     True    False  \n",
      "\n",
      "[12330 rows x 18 columns]\n"
     ]
    }
   ],
   "source": [
    "df = pd.read_csv('data\\\\online_shoppers_intention.csv')\n",
    "\n",
    "print(df)\n",
    "\n",
    "# month, visitor_type, weekend, and revenue need to be converted\n",
    "# needs to be a numpy array befor being provided as input, so need to make everything encoded (we can try both one-hot and numerical)\n",
    "\n",
    "#from numpy import genfromtxt\n",
    "#my_data = genfromtxt('data\\\\online_shoppers_intention.csv', delimiter=',')\n",
    "\n",
    "#print(my_data)"
   ]
  },
  {
   "cell_type": "code",
   "execution_count": 11,
   "id": "8fb8a5eb-77b3-49ba-a520-e6dc70f98c13",
   "metadata": {},
   "outputs": [],
   "source": [
    "df['total_duration'] = df['Administrative_Duration'] + df['Informational_Duration'] + df['ProductRelated_Duration']\n",
    "df['proportion_of_duration'] = df['ProductRelated_Duration'] / df['total_duration']"
   ]
  },
  {
   "cell_type": "code",
   "execution_count": 13,
   "id": "475e6145-a969-4079-95e5-920ce5da0b60",
   "metadata": {},
   "outputs": [
    {
     "data": {
      "text/html": [
       "<div>\n",
       "<style scoped>\n",
       "    .dataframe tbody tr th:only-of-type {\n",
       "        vertical-align: middle;\n",
       "    }\n",
       "\n",
       "    .dataframe tbody tr th {\n",
       "        vertical-align: top;\n",
       "    }\n",
       "\n",
       "    .dataframe thead th {\n",
       "        text-align: right;\n",
       "    }\n",
       "</style>\n",
       "<table border=\"1\" class=\"dataframe\">\n",
       "  <thead>\n",
       "    <tr style=\"text-align: right;\">\n",
       "      <th></th>\n",
       "      <th>BounceRates</th>\n",
       "      <th>ExitRates</th>\n",
       "      <th>PageValues</th>\n",
       "      <th>SpecialDay</th>\n",
       "      <th>Month</th>\n",
       "      <th>Region</th>\n",
       "      <th>TrafficType</th>\n",
       "      <th>VisitorType</th>\n",
       "      <th>Weekend</th>\n",
       "      <th>Revenue</th>\n",
       "      <th>total_duration</th>\n",
       "      <th>proportion_of_duration</th>\n",
       "    </tr>\n",
       "  </thead>\n",
       "  <tbody>\n",
       "    <tr>\n",
       "      <th>0</th>\n",
       "      <td>0.200000</td>\n",
       "      <td>0.200000</td>\n",
       "      <td>0.000000</td>\n",
       "      <td>0.0</td>\n",
       "      <td>Feb</td>\n",
       "      <td>1</td>\n",
       "      <td>1</td>\n",
       "      <td>Returning_Visitor</td>\n",
       "      <td>False</td>\n",
       "      <td>False</td>\n",
       "      <td>0.000000</td>\n",
       "      <td>NaN</td>\n",
       "    </tr>\n",
       "    <tr>\n",
       "      <th>1</th>\n",
       "      <td>0.000000</td>\n",
       "      <td>0.100000</td>\n",
       "      <td>0.000000</td>\n",
       "      <td>0.0</td>\n",
       "      <td>Feb</td>\n",
       "      <td>1</td>\n",
       "      <td>2</td>\n",
       "      <td>Returning_Visitor</td>\n",
       "      <td>False</td>\n",
       "      <td>False</td>\n",
       "      <td>64.000000</td>\n",
       "      <td>1.000000</td>\n",
       "    </tr>\n",
       "    <tr>\n",
       "      <th>2</th>\n",
       "      <td>0.200000</td>\n",
       "      <td>0.200000</td>\n",
       "      <td>0.000000</td>\n",
       "      <td>0.0</td>\n",
       "      <td>Feb</td>\n",
       "      <td>9</td>\n",
       "      <td>3</td>\n",
       "      <td>Returning_Visitor</td>\n",
       "      <td>False</td>\n",
       "      <td>False</td>\n",
       "      <td>0.000000</td>\n",
       "      <td>NaN</td>\n",
       "    </tr>\n",
       "    <tr>\n",
       "      <th>3</th>\n",
       "      <td>0.050000</td>\n",
       "      <td>0.140000</td>\n",
       "      <td>0.000000</td>\n",
       "      <td>0.0</td>\n",
       "      <td>Feb</td>\n",
       "      <td>2</td>\n",
       "      <td>4</td>\n",
       "      <td>Returning_Visitor</td>\n",
       "      <td>False</td>\n",
       "      <td>False</td>\n",
       "      <td>2.666667</td>\n",
       "      <td>1.000000</td>\n",
       "    </tr>\n",
       "    <tr>\n",
       "      <th>4</th>\n",
       "      <td>0.020000</td>\n",
       "      <td>0.050000</td>\n",
       "      <td>0.000000</td>\n",
       "      <td>0.0</td>\n",
       "      <td>Feb</td>\n",
       "      <td>1</td>\n",
       "      <td>4</td>\n",
       "      <td>Returning_Visitor</td>\n",
       "      <td>True</td>\n",
       "      <td>False</td>\n",
       "      <td>627.500000</td>\n",
       "      <td>1.000000</td>\n",
       "    </tr>\n",
       "    <tr>\n",
       "      <th>...</th>\n",
       "      <td>...</td>\n",
       "      <td>...</td>\n",
       "      <td>...</td>\n",
       "      <td>...</td>\n",
       "      <td>...</td>\n",
       "      <td>...</td>\n",
       "      <td>...</td>\n",
       "      <td>...</td>\n",
       "      <td>...</td>\n",
       "      <td>...</td>\n",
       "      <td>...</td>\n",
       "      <td>...</td>\n",
       "    </tr>\n",
       "    <tr>\n",
       "      <th>12325</th>\n",
       "      <td>0.007143</td>\n",
       "      <td>0.029031</td>\n",
       "      <td>12.241717</td>\n",
       "      <td>0.0</td>\n",
       "      <td>Dec</td>\n",
       "      <td>1</td>\n",
       "      <td>1</td>\n",
       "      <td>Returning_Visitor</td>\n",
       "      <td>True</td>\n",
       "      <td>False</td>\n",
       "      <td>1928.791667</td>\n",
       "      <td>0.924823</td>\n",
       "    </tr>\n",
       "    <tr>\n",
       "      <th>12326</th>\n",
       "      <td>0.000000</td>\n",
       "      <td>0.021333</td>\n",
       "      <td>0.000000</td>\n",
       "      <td>0.0</td>\n",
       "      <td>Nov</td>\n",
       "      <td>1</td>\n",
       "      <td>8</td>\n",
       "      <td>Returning_Visitor</td>\n",
       "      <td>True</td>\n",
       "      <td>False</td>\n",
       "      <td>465.750000</td>\n",
       "      <td>1.000000</td>\n",
       "    </tr>\n",
       "    <tr>\n",
       "      <th>12327</th>\n",
       "      <td>0.083333</td>\n",
       "      <td>0.086667</td>\n",
       "      <td>0.000000</td>\n",
       "      <td>0.0</td>\n",
       "      <td>Nov</td>\n",
       "      <td>1</td>\n",
       "      <td>13</td>\n",
       "      <td>Returning_Visitor</td>\n",
       "      <td>True</td>\n",
       "      <td>False</td>\n",
       "      <td>184.250000</td>\n",
       "      <td>1.000000</td>\n",
       "    </tr>\n",
       "    <tr>\n",
       "      <th>12328</th>\n",
       "      <td>0.000000</td>\n",
       "      <td>0.021053</td>\n",
       "      <td>0.000000</td>\n",
       "      <td>0.0</td>\n",
       "      <td>Nov</td>\n",
       "      <td>3</td>\n",
       "      <td>11</td>\n",
       "      <td>Returning_Visitor</td>\n",
       "      <td>False</td>\n",
       "      <td>False</td>\n",
       "      <td>421.000000</td>\n",
       "      <td>0.821853</td>\n",
       "    </tr>\n",
       "    <tr>\n",
       "      <th>12329</th>\n",
       "      <td>0.000000</td>\n",
       "      <td>0.066667</td>\n",
       "      <td>0.000000</td>\n",
       "      <td>0.0</td>\n",
       "      <td>Nov</td>\n",
       "      <td>1</td>\n",
       "      <td>2</td>\n",
       "      <td>New_Visitor</td>\n",
       "      <td>True</td>\n",
       "      <td>False</td>\n",
       "      <td>21.250000</td>\n",
       "      <td>1.000000</td>\n",
       "    </tr>\n",
       "  </tbody>\n",
       "</table>\n",
       "<p>12330 rows × 12 columns</p>\n",
       "</div>"
      ],
      "text/plain": [
       "       BounceRates  ExitRates  PageValues  SpecialDay Month  Region  \\\n",
       "0         0.200000   0.200000    0.000000         0.0   Feb       1   \n",
       "1         0.000000   0.100000    0.000000         0.0   Feb       1   \n",
       "2         0.200000   0.200000    0.000000         0.0   Feb       9   \n",
       "3         0.050000   0.140000    0.000000         0.0   Feb       2   \n",
       "4         0.020000   0.050000    0.000000         0.0   Feb       1   \n",
       "...            ...        ...         ...         ...   ...     ...   \n",
       "12325     0.007143   0.029031   12.241717         0.0   Dec       1   \n",
       "12326     0.000000   0.021333    0.000000         0.0   Nov       1   \n",
       "12327     0.083333   0.086667    0.000000         0.0   Nov       1   \n",
       "12328     0.000000   0.021053    0.000000         0.0   Nov       3   \n",
       "12329     0.000000   0.066667    0.000000         0.0   Nov       1   \n",
       "\n",
       "       TrafficType        VisitorType  Weekend  Revenue  total_duration  \\\n",
       "0                1  Returning_Visitor    False    False        0.000000   \n",
       "1                2  Returning_Visitor    False    False       64.000000   \n",
       "2                3  Returning_Visitor    False    False        0.000000   \n",
       "3                4  Returning_Visitor    False    False        2.666667   \n",
       "4                4  Returning_Visitor     True    False      627.500000   \n",
       "...            ...                ...      ...      ...             ...   \n",
       "12325            1  Returning_Visitor     True    False     1928.791667   \n",
       "12326            8  Returning_Visitor     True    False      465.750000   \n",
       "12327           13  Returning_Visitor     True    False      184.250000   \n",
       "12328           11  Returning_Visitor    False    False      421.000000   \n",
       "12329            2        New_Visitor     True    False       21.250000   \n",
       "\n",
       "       proportion_of_duration  \n",
       "0                         NaN  \n",
       "1                    1.000000  \n",
       "2                         NaN  \n",
       "3                    1.000000  \n",
       "4                    1.000000  \n",
       "...                       ...  \n",
       "12325                0.924823  \n",
       "12326                1.000000  \n",
       "12327                1.000000  \n",
       "12328                0.821853  \n",
       "12329                1.000000  \n",
       "\n",
       "[12330 rows x 12 columns]"
      ]
     },
     "execution_count": 13,
     "metadata": {},
     "output_type": "execute_result"
    }
   ],
   "source": [
    "df.drop(columns=['Informational_Duration', 'Administrative_Duration', \n",
    "                 'ProductRelated_Duration', 'Administrative', 'Informational', \n",
    "                 'ProductRelated', 'OperatingSystems', 'Browser'])"
   ]
  },
  {
   "cell_type": "code",
   "execution_count": 15,
   "id": "7c73e688-cfc0-45f3-9ae3-f40ab3bc00c8",
   "metadata": {},
   "outputs": [
    {
     "name": "stdout",
     "output_type": "stream",
     "text": [
      "['Feb' 'Mar' 'May' 'Oct' 'June' 'Jul' 'Aug' 'Nov' 'Sep' 'Dec']\n"
     ]
    }
   ],
   "source": [
    "# df['Month'].replace(['\n",
    "print(df['Month'].unique())"
   ]
  },
  {
   "cell_type": "code",
   "execution_count": 17,
   "id": "8dc15350-a031-4390-8c2f-871571c602d4",
   "metadata": {},
   "outputs": [
    {
     "name": "stderr",
     "output_type": "stream",
     "text": [
      "C:\\Users\\tomli\\AppData\\Local\\Temp\\ipykernel_30816\\727251348.py:1: FutureWarning: A value is trying to be set on a copy of a DataFrame or Series through chained assignment using an inplace method.\n",
      "The behavior will change in pandas 3.0. This inplace method will never work because the intermediate object on which we are setting values always behaves as a copy.\n",
      "\n",
      "For example, when doing 'df[col].method(value, inplace=True)', try using 'df.method({col: value}, inplace=True)' or df[col] = df[col].method(value) instead, to perform the operation inplace on the original object.\n",
      "\n",
      "\n",
      "  df['Month'].replace(['Jan','Feb','Mar','Apr','May','June','Jul','Aug','Sep','Oct','Nov','Dec'],\n",
      "C:\\Users\\tomli\\AppData\\Local\\Temp\\ipykernel_30816\\727251348.py:1: FutureWarning: Downcasting behavior in `replace` is deprecated and will be removed in a future version. To retain the old behavior, explicitly call `result.infer_objects(copy=False)`. To opt-in to the future behavior, set `pd.set_option('future.no_silent_downcasting', True)`\n",
      "  df['Month'].replace(['Jan','Feb','Mar','Apr','May','June','Jul','Aug','Sep','Oct','Nov','Dec'],\n"
     ]
    }
   ],
   "source": [
    "df['Month'].replace(['Jan','Feb','Mar','Apr','May','June','Jul','Aug','Sep','Oct','Nov','Dec'],\n",
    "                    [1, 2, 3, 4, 5, 6, 7, 8, 9, 10, 11, 12], inplace=True)"
   ]
  },
  {
   "cell_type": "code",
   "execution_count": 19,
   "id": "a63a2948-ea6b-4532-87df-36c15617f1e1",
   "metadata": {},
   "outputs": [
    {
     "name": "stdout",
     "output_type": "stream",
     "text": [
      "[ 2  3  5 10  6  7  8 11  9 12]\n"
     ]
    }
   ],
   "source": [
    "print(df['Month'].unique())"
   ]
  },
  {
   "cell_type": "code",
   "execution_count": 21,
   "id": "7d84f3c6-c38c-45bd-a512-a9006e4dc1aa",
   "metadata": {},
   "outputs": [
    {
     "name": "stdout",
     "output_type": "stream",
     "text": [
      "['Returning_Visitor' 'New_Visitor' 'Other']\n"
     ]
    }
   ],
   "source": [
    "print(df['VisitorType'].unique())"
   ]
  },
  {
   "cell_type": "code",
   "execution_count": 23,
   "id": "b3c8585a-40be-447d-98a5-07f53eee1310",
   "metadata": {},
   "outputs": [
    {
     "name": "stderr",
     "output_type": "stream",
     "text": [
      "C:\\Users\\tomli\\AppData\\Local\\Temp\\ipykernel_30816\\656729720.py:1: FutureWarning: A value is trying to be set on a copy of a DataFrame or Series through chained assignment using an inplace method.\n",
      "The behavior will change in pandas 3.0. This inplace method will never work because the intermediate object on which we are setting values always behaves as a copy.\n",
      "\n",
      "For example, when doing 'df[col].method(value, inplace=True)', try using 'df.method({col: value}, inplace=True)' or df[col] = df[col].method(value) instead, to perform the operation inplace on the original object.\n",
      "\n",
      "\n",
      "  df['VisitorType'].replace(['Returning_Visitor', 'New_Visitor', 'Other'], [0, 1, 2], inplace=True)\n",
      "C:\\Users\\tomli\\AppData\\Local\\Temp\\ipykernel_30816\\656729720.py:1: FutureWarning: Downcasting behavior in `replace` is deprecated and will be removed in a future version. To retain the old behavior, explicitly call `result.infer_objects(copy=False)`. To opt-in to the future behavior, set `pd.set_option('future.no_silent_downcasting', True)`\n",
      "  df['VisitorType'].replace(['Returning_Visitor', 'New_Visitor', 'Other'], [0, 1, 2], inplace=True)\n"
     ]
    }
   ],
   "source": [
    "df['VisitorType'].replace(['Returning_Visitor', 'New_Visitor', 'Other'], [0, 1, 2], inplace=True)"
   ]
  },
  {
   "cell_type": "code",
   "execution_count": 25,
   "id": "9f99e578-efdc-4450-af32-d93ccd5ddff9",
   "metadata": {},
   "outputs": [],
   "source": [
    "df_copy = df.copy(deep=True)"
   ]
  },
  {
   "cell_type": "code",
   "execution_count": 27,
   "id": "65fc4334-f429-4865-b0da-c7154ab0789c",
   "metadata": {},
   "outputs": [
    {
     "name": "stderr",
     "output_type": "stream",
     "text": [
      "C:\\Users\\tomli\\AppData\\Local\\Temp\\ipykernel_30816\\2402203070.py:1: FutureWarning: A value is trying to be set on a copy of a DataFrame or Series through chained assignment using an inplace method.\n",
      "The behavior will change in pandas 3.0. This inplace method will never work because the intermediate object on which we are setting values always behaves as a copy.\n",
      "\n",
      "For example, when doing 'df[col].method(value, inplace=True)', try using 'df.method({col: value}, inplace=True)' or df[col] = df[col].method(value) instead, to perform the operation inplace on the original object.\n",
      "\n",
      "\n",
      "  df_copy['Weekend'].replace([False, True], [0,1], inplace=True)\n",
      "C:\\Users\\tomli\\AppData\\Local\\Temp\\ipykernel_30816\\2402203070.py:1: FutureWarning: Downcasting behavior in `replace` is deprecated and will be removed in a future version. To retain the old behavior, explicitly call `result.infer_objects(copy=False)`. To opt-in to the future behavior, set `pd.set_option('future.no_silent_downcasting', True)`\n",
      "  df_copy['Weekend'].replace([False, True], [0,1], inplace=True)\n"
     ]
    }
   ],
   "source": [
    "df_copy['Weekend'].replace([False, True], [0,1], inplace=True)"
   ]
  },
  {
   "cell_type": "code",
   "execution_count": 29,
   "id": "e4ecf3f8-493c-4825-aa3f-5a2516d91870",
   "metadata": {},
   "outputs": [
    {
     "name": "stderr",
     "output_type": "stream",
     "text": [
      "C:\\Users\\tomli\\AppData\\Local\\Temp\\ipykernel_30816\\550847130.py:1: FutureWarning: A value is trying to be set on a copy of a DataFrame or Series through chained assignment using an inplace method.\n",
      "The behavior will change in pandas 3.0. This inplace method will never work because the intermediate object on which we are setting values always behaves as a copy.\n",
      "\n",
      "For example, when doing 'df[col].method(value, inplace=True)', try using 'df.method({col: value}, inplace=True)' or df[col] = df[col].method(value) instead, to perform the operation inplace on the original object.\n",
      "\n",
      "\n",
      "  df_copy['Revenue'].replace([False, True], [0,1], inplace=True)\n",
      "C:\\Users\\tomli\\AppData\\Local\\Temp\\ipykernel_30816\\550847130.py:1: FutureWarning: Downcasting behavior in `replace` is deprecated and will be removed in a future version. To retain the old behavior, explicitly call `result.infer_objects(copy=False)`. To opt-in to the future behavior, set `pd.set_option('future.no_silent_downcasting', True)`\n",
      "  df_copy['Revenue'].replace([False, True], [0,1], inplace=True)\n"
     ]
    }
   ],
   "source": [
    "df_copy['Revenue'].replace([False, True], [0,1], inplace=True)"
   ]
  },
  {
   "cell_type": "code",
   "execution_count": 31,
   "id": "a100ae9a-c624-4ef1-89ff-9f4649c12767",
   "metadata": {},
   "outputs": [],
   "source": [
    "df_copy = df_copy.drop(columns=['Informational_Duration', 'Administrative_Duration', \n",
    "                 'ProductRelated_Duration', 'Administrative', 'Informational', \n",
    "                 'ProductRelated', 'OperatingSystems', 'Browser'])"
   ]
  },
  {
   "cell_type": "code",
   "execution_count": 33,
   "id": "44a31116-c4d1-406c-a48d-ab3715c9dba5",
   "metadata": {},
   "outputs": [],
   "source": [
    "df_copy.fillna(1, inplace=True)"
   ]
  },
  {
   "cell_type": "code",
   "execution_count": 35,
   "id": "44e0b4d4-a9d7-4416-bf0a-1121ba70a3bd",
   "metadata": {},
   "outputs": [],
   "source": [
    "df_numpy = df_copy.to_numpy()"
   ]
  },
  {
   "cell_type": "code",
   "execution_count": 37,
   "id": "7a3ae3f1-53ef-407f-ac0b-1a46e6497022",
   "metadata": {},
   "outputs": [],
   "source": [
    "import math\n",
    "df_numpy.shape[0]\n",
    "testSample = np.random.choice(df_numpy.shape[0], math.floor(0.7 * df_numpy.shape[0]), replace=False)"
   ]
  },
  {
   "cell_type": "code",
   "execution_count": 39,
   "id": "c6e61b58-f52a-4615-af67-6ec0853f0276",
   "metadata": {},
   "outputs": [
    {
     "name": "stdout",
     "output_type": "stream",
     "text": [
      "[ 7797  8357  6218 ...  8113  1616 12184]\n"
     ]
    }
   ],
   "source": [
    "print(testSample)"
   ]
  },
  {
   "cell_type": "code",
   "execution_count": 41,
   "id": "3a230144-3ced-4235-9371-227284ce7056",
   "metadata": {},
   "outputs": [
    {
     "name": "stdout",
     "output_type": "stream",
     "text": [
      "[[0.00000000e+00 1.92307690e-02 0.00000000e+00 ... 0.00000000e+00\n",
      "  5.64946667e+02 6.91138987e-01]\n",
      " [1.11111110e-02 5.00000000e-02 1.79606904e+01 ... 1.00000000e+00\n",
      "  3.54750000e+02 8.97110641e-01]\n",
      " [0.00000000e+00 1.17647060e-02 0.00000000e+00 ... 0.00000000e+00\n",
      "  4.18100000e+02 6.79502511e-01]\n",
      " ...\n",
      " [0.00000000e+00 6.89655200e-03 0.00000000e+00 ... 1.00000000e+00\n",
      "  4.62500000e+02 9.39459459e-01]\n",
      " [0.00000000e+00 7.14285700e-03 0.00000000e+00 ... 0.00000000e+00\n",
      "  4.06866667e+02 1.00000000e+00]\n",
      " [0.00000000e+00 6.91029900e-03 3.33122059e+01 ... 0.00000000e+00\n",
      "  2.33980000e+03 4.32615323e-01]]\n",
      "Train length: 8631\n",
      "Test lenght: 8631\n"
     ]
    }
   ],
   "source": [
    "print(df_numpy[testSample])\n",
    "\n",
    "train = df_numpy[testSample]\n",
    "test = df_numpy[~testSample]\n",
    "\n",
    "print(\"Train length: \" + str(train.shape[0]))\n",
    "print(\"Test lenght: \" + str(test.shape[0]))"
   ]
  },
  {
   "cell_type": "code",
   "execution_count": 43,
   "id": "a18697a4-8d18-4b96-8d5f-9232f05fa346",
   "metadata": {},
   "outputs": [],
   "source": [
    "from sklearn.model_selection import train_test_split"
   ]
  },
  {
   "cell_type": "code",
   "execution_count": 44,
   "id": "300e2131-3337-4d37-a69f-8657d5f72261",
   "metadata": {},
   "outputs": [],
   "source": [
    "df_copy_y = df_copy['Revenue']\n",
    "df_copy_x = df_copy.loc[:, df_copy.columns != 'Revenue']\n",
    "\n",
    "#print(df_copy_y)\n",
    "#print(df_copy_x)"
   ]
  },
  {
   "cell_type": "code",
   "execution_count": 47,
   "id": "37d6761f-73ed-4568-a364-074442240714",
   "metadata": {},
   "outputs": [],
   "source": [
    "df_copy_x_train, df_copy_x_test, df_copy_y_train, df_copy_y_test = train_test_split(\n",
    "    df_copy_x, df_copy_y, test_size=0.3, random_state=42)"
   ]
  },
  {
   "cell_type": "code",
   "execution_count": 49,
   "id": "d127f0f5-e20f-4c7b-82b7-bd31b294dfff",
   "metadata": {},
   "outputs": [
    {
     "name": "stdout",
     "output_type": "stream",
     "text": [
      "x_train shape: (8631, 11, 1)\n",
      "8631 train samples\n",
      "3699 test samples\n",
      "y_train shape:  (8631, 2)\n"
     ]
    }
   ],
   "source": [
    "# print(\"df_copy_x_train shape:\", df_copy_x_train.shape)\n",
    "# print(df_copy_x_train.to_numpy())\n",
    "\n",
    "numpy_x_train = df_copy_x_train.to_numpy()\n",
    "numpy_x_test = df_copy_x_test.to_numpy()\n",
    "numpy_y_train = df_copy_y_train.to_numpy()\n",
    "numpy_y_test = df_copy_y_test.to_numpy()\n",
    "\n",
    "num_classes = 2\n",
    "\n",
    "input_shape = (11, 1)\n",
    "\n",
    "# Make sure images have shape (28, 28, 1)\n",
    "numpy_x_train = np.expand_dims(numpy_x_train, -1)\n",
    "numpy_x_test = np.expand_dims(numpy_x_test, -1)\n",
    "print(\"x_train shape:\", numpy_x_train.shape)\n",
    "print(numpy_x_train.shape[0], \"train samples\")\n",
    "print(numpy_x_test.shape[0], \"test samples\")\n",
    "\n",
    "# convert class vectors to binary class matrices\n",
    "numpy_y_train = keras.utils.to_categorical(numpy_y_train, num_classes)\n",
    "numpy_y_test = keras.utils.to_categorical(numpy_y_test, num_classes)\n",
    "\n",
    "print(\"y_train shape: \", numpy_y_train.shape)"
   ]
  },
  {
   "cell_type": "code",
   "execution_count": 51,
   "id": "8161745c-f7fa-4fb3-8449-fc3655b1a379",
   "metadata": {},
   "outputs": [
    {
     "data": {
      "text/html": [
       "<pre style=\"white-space:pre;overflow-x:auto;line-height:normal;font-family:Menlo,'DejaVu Sans Mono',consolas,'Courier New',monospace\"><span style=\"font-weight: bold\">Model: \"sequential\"</span>\n",
       "</pre>\n"
      ],
      "text/plain": [
       "\u001b[1mModel: \"sequential\"\u001b[0m\n"
      ]
     },
     "metadata": {},
     "output_type": "display_data"
    },
    {
     "data": {
      "text/html": [
       "<pre style=\"white-space:pre;overflow-x:auto;line-height:normal;font-family:Menlo,'DejaVu Sans Mono',consolas,'Courier New',monospace\">┏━━━━━━━━━━━━━━━━━━━━━━━━━━━━━━━━━┳━━━━━━━━━━━━━━━━━━━━━━━━┳━━━━━━━━━━━━━━━┓\n",
       "┃<span style=\"font-weight: bold\"> Layer (type)                    </span>┃<span style=\"font-weight: bold\"> Output Shape           </span>┃<span style=\"font-weight: bold\">       Param # </span>┃\n",
       "┡━━━━━━━━━━━━━━━━━━━━━━━━━━━━━━━━━╇━━━━━━━━━━━━━━━━━━━━━━━━╇━━━━━━━━━━━━━━━┩\n",
       "│ dense (<span style=\"color: #0087ff; text-decoration-color: #0087ff\">Dense</span>)                   │ (<span style=\"color: #00d7ff; text-decoration-color: #00d7ff\">None</span>, <span style=\"color: #00af00; text-decoration-color: #00af00\">11</span>, <span style=\"color: #00af00; text-decoration-color: #00af00\">20</span>)         │            <span style=\"color: #00af00; text-decoration-color: #00af00\">40</span> │\n",
       "├─────────────────────────────────┼────────────────────────┼───────────────┤\n",
       "│ flatten (<span style=\"color: #0087ff; text-decoration-color: #0087ff\">Flatten</span>)               │ (<span style=\"color: #00d7ff; text-decoration-color: #00d7ff\">None</span>, <span style=\"color: #00af00; text-decoration-color: #00af00\">220</span>)            │             <span style=\"color: #00af00; text-decoration-color: #00af00\">0</span> │\n",
       "├─────────────────────────────────┼────────────────────────┼───────────────┤\n",
       "│ dropout (<span style=\"color: #0087ff; text-decoration-color: #0087ff\">Dropout</span>)               │ (<span style=\"color: #00d7ff; text-decoration-color: #00d7ff\">None</span>, <span style=\"color: #00af00; text-decoration-color: #00af00\">220</span>)            │             <span style=\"color: #00af00; text-decoration-color: #00af00\">0</span> │\n",
       "├─────────────────────────────────┼────────────────────────┼───────────────┤\n",
       "│ dense_1 (<span style=\"color: #0087ff; text-decoration-color: #0087ff\">Dense</span>)                 │ (<span style=\"color: #00d7ff; text-decoration-color: #00d7ff\">None</span>, <span style=\"color: #00af00; text-decoration-color: #00af00\">2</span>)              │           <span style=\"color: #00af00; text-decoration-color: #00af00\">442</span> │\n",
       "└─────────────────────────────────┴────────────────────────┴───────────────┘\n",
       "</pre>\n"
      ],
      "text/plain": [
       "┏━━━━━━━━━━━━━━━━━━━━━━━━━━━━━━━━━┳━━━━━━━━━━━━━━━━━━━━━━━━┳━━━━━━━━━━━━━━━┓\n",
       "┃\u001b[1m \u001b[0m\u001b[1mLayer (type)                   \u001b[0m\u001b[1m \u001b[0m┃\u001b[1m \u001b[0m\u001b[1mOutput Shape          \u001b[0m\u001b[1m \u001b[0m┃\u001b[1m \u001b[0m\u001b[1m      Param #\u001b[0m\u001b[1m \u001b[0m┃\n",
       "┡━━━━━━━━━━━━━━━━━━━━━━━━━━━━━━━━━╇━━━━━━━━━━━━━━━━━━━━━━━━╇━━━━━━━━━━━━━━━┩\n",
       "│ dense (\u001b[38;5;33mDense\u001b[0m)                   │ (\u001b[38;5;45mNone\u001b[0m, \u001b[38;5;34m11\u001b[0m, \u001b[38;5;34m20\u001b[0m)         │            \u001b[38;5;34m40\u001b[0m │\n",
       "├─────────────────────────────────┼────────────────────────┼───────────────┤\n",
       "│ flatten (\u001b[38;5;33mFlatten\u001b[0m)               │ (\u001b[38;5;45mNone\u001b[0m, \u001b[38;5;34m220\u001b[0m)            │             \u001b[38;5;34m0\u001b[0m │\n",
       "├─────────────────────────────────┼────────────────────────┼───────────────┤\n",
       "│ dropout (\u001b[38;5;33mDropout\u001b[0m)               │ (\u001b[38;5;45mNone\u001b[0m, \u001b[38;5;34m220\u001b[0m)            │             \u001b[38;5;34m0\u001b[0m │\n",
       "├─────────────────────────────────┼────────────────────────┼───────────────┤\n",
       "│ dense_1 (\u001b[38;5;33mDense\u001b[0m)                 │ (\u001b[38;5;45mNone\u001b[0m, \u001b[38;5;34m2\u001b[0m)              │           \u001b[38;5;34m442\u001b[0m │\n",
       "└─────────────────────────────────┴────────────────────────┴───────────────┘\n"
      ]
     },
     "metadata": {},
     "output_type": "display_data"
    },
    {
     "data": {
      "text/html": [
       "<pre style=\"white-space:pre;overflow-x:auto;line-height:normal;font-family:Menlo,'DejaVu Sans Mono',consolas,'Courier New',monospace\"><span style=\"font-weight: bold\"> Total params: </span><span style=\"color: #00af00; text-decoration-color: #00af00\">482</span> (1.88 KB)\n",
       "</pre>\n"
      ],
      "text/plain": [
       "\u001b[1m Total params: \u001b[0m\u001b[38;5;34m482\u001b[0m (1.88 KB)\n"
      ]
     },
     "metadata": {},
     "output_type": "display_data"
    },
    {
     "data": {
      "text/html": [
       "<pre style=\"white-space:pre;overflow-x:auto;line-height:normal;font-family:Menlo,'DejaVu Sans Mono',consolas,'Courier New',monospace\"><span style=\"font-weight: bold\"> Trainable params: </span><span style=\"color: #00af00; text-decoration-color: #00af00\">482</span> (1.88 KB)\n",
       "</pre>\n"
      ],
      "text/plain": [
       "\u001b[1m Trainable params: \u001b[0m\u001b[38;5;34m482\u001b[0m (1.88 KB)\n"
      ]
     },
     "metadata": {},
     "output_type": "display_data"
    },
    {
     "data": {
      "text/html": [
       "<pre style=\"white-space:pre;overflow-x:auto;line-height:normal;font-family:Menlo,'DejaVu Sans Mono',consolas,'Courier New',monospace\"><span style=\"font-weight: bold\"> Non-trainable params: </span><span style=\"color: #00af00; text-decoration-color: #00af00\">0</span> (0.00 B)\n",
       "</pre>\n"
      ],
      "text/plain": [
       "\u001b[1m Non-trainable params: \u001b[0m\u001b[38;5;34m0\u001b[0m (0.00 B)\n"
      ]
     },
     "metadata": {},
     "output_type": "display_data"
    }
   ],
   "source": [
    "model = keras.Sequential(\n",
    "    [\n",
    "        keras.Input(shape=input_shape),\n",
    "        layers.Dense(20, activation=\"relu\"),\n",
    "        layers.Flatten(),\n",
    "        layers.Dropout(0.5),\n",
    "        layers.Dense(num_classes, activation=\"softmax\"),\n",
    "    ]\n",
    ")\n",
    "\n",
    "model.summary()"
   ]
  },
  {
   "cell_type": "code",
   "execution_count": 53,
   "id": "4777fe3d-ada5-404e-80c5-5d87cae8fb8f",
   "metadata": {},
   "outputs": [
    {
     "name": "stdout",
     "output_type": "stream",
     "text": [
      "Epoch 1/15\n",
      "\u001b[1m61/61\u001b[0m \u001b[32m━━━━━━━━━━━━━━━━━━━━\u001b[0m\u001b[37m\u001b[0m \u001b[1m0s\u001b[0m 4ms/step - accuracy: 0.6377 - loss: 4.7543 - val_accuracy: 0.8461 - val_loss: 2.4623\n",
      "Epoch 2/15\n",
      "\u001b[1m61/61\u001b[0m \u001b[32m━━━━━━━━━━━━━━━━━━━━\u001b[0m\u001b[37m\u001b[0m \u001b[1m0s\u001b[0m 3ms/step - accuracy: 0.8247 - loss: 2.6818 - val_accuracy: 0.8461 - val_loss: 2.4639\n",
      "Epoch 3/15\n",
      "\u001b[1m61/61\u001b[0m \u001b[32m━━━━━━━━━━━━━━━━━━━━\u001b[0m\u001b[37m\u001b[0m \u001b[1m0s\u001b[0m 3ms/step - accuracy: 0.8282 - loss: 2.6693 - val_accuracy: 0.8472 - val_loss: 2.4611\n",
      "Epoch 4/15\n",
      "\u001b[1m61/61\u001b[0m \u001b[32m━━━━━━━━━━━━━━━━━━━━\u001b[0m\u001b[37m\u001b[0m \u001b[1m0s\u001b[0m 3ms/step - accuracy: 0.8367 - loss: 2.5535 - val_accuracy: 0.8472 - val_loss: 2.4605\n",
      "Epoch 5/15\n",
      "\u001b[1m61/61\u001b[0m \u001b[32m━━━━━━━━━━━━━━━━━━━━\u001b[0m\u001b[37m\u001b[0m \u001b[1m0s\u001b[0m 3ms/step - accuracy: 0.8470 - loss: 2.3855 - val_accuracy: 0.8472 - val_loss: 2.4607\n",
      "Epoch 6/15\n",
      "\u001b[1m61/61\u001b[0m \u001b[32m━━━━━━━━━━━━━━━━━━━━\u001b[0m\u001b[37m\u001b[0m \u001b[1m0s\u001b[0m 3ms/step - accuracy: 0.8422 - loss: 2.4579 - val_accuracy: 0.8472 - val_loss: 2.4572\n",
      "Epoch 7/15\n",
      "\u001b[1m61/61\u001b[0m \u001b[32m━━━━━━━━━━━━━━━━━━━━\u001b[0m\u001b[37m\u001b[0m \u001b[1m0s\u001b[0m 3ms/step - accuracy: 0.8411 - loss: 2.5010 - val_accuracy: 0.8472 - val_loss: 2.4484\n",
      "Epoch 8/15\n",
      "\u001b[1m61/61\u001b[0m \u001b[32m━━━━━━━━━━━━━━━━━━━━\u001b[0m\u001b[37m\u001b[0m \u001b[1m0s\u001b[0m 3ms/step - accuracy: 0.8436 - loss: 2.4538 - val_accuracy: 0.8472 - val_loss: 2.4295\n",
      "Epoch 9/15\n",
      "\u001b[1m61/61\u001b[0m \u001b[32m━━━━━━━━━━━━━━━━━━━━\u001b[0m\u001b[37m\u001b[0m \u001b[1m0s\u001b[0m 3ms/step - accuracy: 0.8461 - loss: 2.4224 - val_accuracy: 0.8495 - val_loss: 2.4218\n",
      "Epoch 10/15\n",
      "\u001b[1m61/61\u001b[0m \u001b[32m━━━━━━━━━━━━━━━━━━━━\u001b[0m\u001b[37m\u001b[0m \u001b[1m0s\u001b[0m 3ms/step - accuracy: 0.8540 - loss: 2.2877 - val_accuracy: 0.8530 - val_loss: 2.3493\n",
      "Epoch 11/15\n",
      "\u001b[1m61/61\u001b[0m \u001b[32m━━━━━━━━━━━━━━━━━━━━\u001b[0m\u001b[37m\u001b[0m \u001b[1m0s\u001b[0m 4ms/step - accuracy: 0.8492 - loss: 2.3640 - val_accuracy: 0.8553 - val_loss: 2.2810\n",
      "Epoch 12/15\n",
      "\u001b[1m61/61\u001b[0m \u001b[32m━━━━━━━━━━━━━━━━━━━━\u001b[0m\u001b[37m\u001b[0m \u001b[1m0s\u001b[0m 3ms/step - accuracy: 0.8585 - loss: 2.1735 - val_accuracy: 0.8611 - val_loss: 2.1320\n",
      "Epoch 13/15\n",
      "\u001b[1m61/61\u001b[0m \u001b[32m━━━━━━━━━━━━━━━━━━━━\u001b[0m\u001b[37m\u001b[0m \u001b[1m0s\u001b[0m 3ms/step - accuracy: 0.8522 - loss: 2.2497 - val_accuracy: 0.8843 - val_loss: 1.7159\n",
      "Epoch 14/15\n",
      "\u001b[1m61/61\u001b[0m \u001b[32m━━━━━━━━━━━━━━━━━━━━\u001b[0m\u001b[37m\u001b[0m \u001b[1m0s\u001b[0m 3ms/step - accuracy: 0.8770 - loss: 1.6520 - val_accuracy: 0.8900 - val_loss: 1.5509\n",
      "Epoch 15/15\n",
      "\u001b[1m61/61\u001b[0m \u001b[32m━━━━━━━━━━━━━━━━━━━━\u001b[0m\u001b[37m\u001b[0m \u001b[1m0s\u001b[0m 3ms/step - accuracy: 0.8787 - loss: 1.7178 - val_accuracy: 0.8947 - val_loss: 1.4134\n"
     ]
    },
    {
     "data": {
      "text/plain": [
       "<keras.src.callbacks.history.History at 0x2b48b702cf0>"
      ]
     },
     "execution_count": 53,
     "metadata": {},
     "output_type": "execute_result"
    }
   ],
   "source": [
    "batch_size = 128\n",
    "epochs = 15\n",
    "\n",
    "model.compile(loss=\"categorical_crossentropy\", optimizer=\"adam\", metrics=[\"accuracy\"])\n",
    "\n",
    "model.fit(numpy_x_train, numpy_y_train, batch_size=batch_size, epochs=epochs, validation_split=0.1)"
   ]
  },
  {
   "cell_type": "code",
   "execution_count": 55,
   "id": "19b7f689-1833-4208-9286-9fa6da135186",
   "metadata": {},
   "outputs": [
    {
     "name": "stdout",
     "output_type": "stream",
     "text": [
      "Test loss: 1.4274117946624756\n",
      "Test accuracy: 0.8913219571113586\n"
     ]
    }
   ],
   "source": [
    "score = model.evaluate(numpy_x_test, numpy_y_test, verbose=0)\n",
    "print(\"Test loss:\", score[0])\n",
    "print(\"Test accuracy:\", score[1])"
   ]
  },
  {
   "cell_type": "code",
   "execution_count": null,
   "id": "35eece91-b6b7-4c95-a613-bd37fd0b5ffd",
   "metadata": {},
   "outputs": [],
   "source": []
  }
 ],
 "metadata": {
  "kernelspec": {
   "display_name": "Python 3 (ipykernel)",
   "language": "python",
   "name": "python3"
  },
  "language_info": {
   "codemirror_mode": {
    "name": "ipython",
    "version": 3
   },
   "file_extension": ".py",
   "mimetype": "text/x-python",
   "name": "python",
   "nbconvert_exporter": "python",
   "pygments_lexer": "ipython3",
   "version": "3.12.7"
  }
 },
 "nbformat": 4,
 "nbformat_minor": 5
}
