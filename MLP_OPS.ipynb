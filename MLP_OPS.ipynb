{
 "cells": [
  {
   "cell_type": "markdown",
   "id": "99b48967-ce81-4821-a202-98089f50de24",
   "metadata": {},
   "source": [
    "!pip3 uninstall -y torch torchvision"
   ]
  },
  {
   "cell_type": "markdown",
   "id": "12e4e6de-c495-4463-9386-d2c4bd6f4a25",
   "metadata": {},
   "source": [
    "!pip3 install torch torchvision"
   ]
  },
  {
   "cell_type": "code",
   "execution_count": null,
   "id": "901fd16c-0333-47eb-8eef-8f56694e578f",
   "metadata": {},
   "outputs": [],
   "source": [
    "import torch\n",
    "# import the data\n",
    "import pandas as pd\n",
    "import math\n",
    "from sklearn.model_selection import train_test_split\n",
    "from sklearn.metrics import confusion_matrix\n",
    "from imblearn.over_sampling import RandomOverSampler"
   ]
  },
  {
   "cell_type": "code",
   "execution_count": null,
   "id": "d9bf1ef0-b530-48fc-9108-3e897cc9dffd",
   "metadata": {},
   "outputs": [],
   "source": [
    "import os\n",
    "os.environ[\"KERAS_BACKEND\"] = \"torch\""
   ]
  },
  {
   "cell_type": "code",
   "execution_count": null,
   "id": "0f18b031-c4ce-4afd-9f27-0174865692c4",
   "metadata": {},
   "outputs": [],
   "source": [
    "import numpy as np\n",
    "import keras\n",
    "from keras import layers"
   ]
  },
  {
   "cell_type": "code",
   "execution_count": null,
   "id": "0714493d-b2f4-440c-a5d9-697714584012",
   "metadata": {},
   "outputs": [],
   "source": [
    "# function to evaluate model\n",
    "# returns (accuracy, tpr, tnr, f1)\n",
    "# takes as input real, predicted\n",
    "def genResults(real, predicted):\n",
    "    real=np.argmax(real, axis=1)\n",
    "    predicted=np.argmax(predicted, axis=1)\n",
    "\n",
    "    conf_matrix = confusion_matrix(y_true=real, y_pred=predicted)\n",
    "    tn, fp, fn, tp = conf_matrix.ravel()\n",
    "\n",
    "    f1 = (2*tp)/((2*tp)+fp+fn)\n",
    "\n",
    "    acc = (tp + tn) / (tp + tn + fn + fp)\n",
    "\n",
    "    tpr = tp / (tp + fp)\n",
    "    tnr = tn / (tn + fn)\n",
    "\n",
    "    print(\"true negative: \", tn)\n",
    "    print(\"false positive: \", fp)\n",
    "    print(\"false negative: \", fn)\n",
    "    print(\"true positive: \", tp)\n",
    "    \n",
    "    return (acc, tpr, tnr, f1)"
   ]
  },
  {
   "cell_type": "code",
   "execution_count": null,
   "id": "00071ec5-5b9e-4ce8-b5f8-5a77770885d2",
   "metadata": {},
   "outputs": [],
   "source": [
    "# split it like above\n",
    "\n",
    "# do the shaping if necessary\n",
    "# change the type of the columns that are characters to one-hot-encodings or something like that\n",
    "\n",
    "# make a model with one layer\n",
    "# run the model and see what happens"
   ]
  },
  {
   "cell_type": "code",
   "execution_count": null,
   "id": "cda5d390-61b8-47c5-a5a7-b0de2d332e5d",
   "metadata": {},
   "outputs": [],
   "source": [
    "df = pd.read_csv('data\\\\online_shoppers_intention.csv')\n",
    "\n",
    "print(df)\n",
    "\n",
    "# hyperparameters\n",
    "batch_size = 128\n",
    "epochs = 30\n",
    "dropOut = 0.5"
   ]
  },
  {
   "cell_type": "code",
   "execution_count": null,
   "id": "8fb8a5eb-77b3-49ba-a520-e6dc70f98c13",
   "metadata": {},
   "outputs": [],
   "source": [
    "df['total_duration'] = df['Administrative_Duration'] + df['Informational_Duration'] + df['ProductRelated_Duration']\n",
    "df['proportion_of_duration'] = df['ProductRelated_Duration'] / df['total_duration']"
   ]
  },
  {
   "cell_type": "code",
   "execution_count": null,
   "id": "475e6145-a969-4079-95e5-920ce5da0b60",
   "metadata": {},
   "outputs": [],
   "source": [
    "df.drop(columns=['Informational_Duration', 'Administrative_Duration', \n",
    "                 'ProductRelated_Duration', 'Administrative', 'Informational', \n",
    "                 'ProductRelated', 'OperatingSystems', 'Browser'])"
   ]
  },
  {
   "cell_type": "code",
   "execution_count": null,
   "id": "7c73e688-cfc0-45f3-9ae3-f40ab3bc00c8",
   "metadata": {},
   "outputs": [],
   "source": [
    "# df['Month'].replace(['\n",
    "print(df['Month'].unique())"
   ]
  },
  {
   "cell_type": "code",
   "execution_count": null,
   "id": "8dc15350-a031-4390-8c2f-871571c602d4",
   "metadata": {},
   "outputs": [],
   "source": [
    "df['Month'].replace(['Jan','Feb','Mar','Apr','May','June','Jul','Aug','Sep','Oct','Nov','Dec'],\n",
    "                    [1, 2, 3, 4, 5, 6, 7, 8, 9, 10, 11, 12], inplace=True)"
   ]
  },
  {
   "cell_type": "code",
   "execution_count": null,
   "id": "a63a2948-ea6b-4532-87df-36c15617f1e1",
   "metadata": {},
   "outputs": [],
   "source": [
    "print(df['Month'].unique())"
   ]
  },
  {
   "cell_type": "code",
   "execution_count": null,
   "id": "7d84f3c6-c38c-45bd-a512-a9006e4dc1aa",
   "metadata": {},
   "outputs": [],
   "source": [
    "print(df['VisitorType'].unique())"
   ]
  },
  {
   "cell_type": "code",
   "execution_count": null,
   "id": "b3c8585a-40be-447d-98a5-07f53eee1310",
   "metadata": {},
   "outputs": [],
   "source": [
    "df['VisitorType'].replace(['Returning_Visitor', 'New_Visitor', 'Other'], [0, 1, 2], inplace=True)"
   ]
  },
  {
   "cell_type": "code",
   "execution_count": null,
   "id": "9f99e578-efdc-4450-af32-d93ccd5ddff9",
   "metadata": {},
   "outputs": [],
   "source": [
    "df_copy = df.copy(deep=True)"
   ]
  },
  {
   "cell_type": "code",
   "execution_count": null,
   "id": "65fc4334-f429-4865-b0da-c7154ab0789c",
   "metadata": {},
   "outputs": [],
   "source": [
    "df_copy['Weekend'].replace([False, True], [0,1], inplace=True)"
   ]
  },
  {
   "cell_type": "code",
   "execution_count": null,
   "id": "e4ecf3f8-493c-4825-aa3f-5a2516d91870",
   "metadata": {},
   "outputs": [],
   "source": [
    "df_copy['Revenue'].replace([False, True], [0,1], inplace=True)"
   ]
  },
  {
   "cell_type": "code",
   "execution_count": null,
   "id": "a100ae9a-c624-4ef1-89ff-9f4649c12767",
   "metadata": {},
   "outputs": [],
   "source": [
    "df_copy = df_copy.drop(columns=['Informational_Duration', 'Administrative_Duration', \n",
    "                 'ProductRelated_Duration', 'Administrative', 'Informational', \n",
    "                 'ProductRelated', 'OperatingSystems', 'Browser'])"
   ]
  },
  {
   "cell_type": "code",
   "execution_count": null,
   "id": "44a31116-c4d1-406c-a48d-ab3715c9dba5",
   "metadata": {},
   "outputs": [],
   "source": [
    "df_copy.fillna(1, inplace=True)"
   ]
  },
  {
   "cell_type": "code",
   "execution_count": null,
   "id": "44e0b4d4-a9d7-4416-bf0a-1121ba70a3bd",
   "metadata": {},
   "outputs": [],
   "source": [
    "df_numpy = df_copy.to_numpy()"
   ]
  },
  {
   "cell_type": "code",
   "execution_count": null,
   "id": "7a3ae3f1-53ef-407f-ac0b-1a46e6497022",
   "metadata": {},
   "outputs": [],
   "source": [
    "\n",
    "df_numpy.shape[0]\n",
    "testSample = np.random.choice(df_numpy.shape[0], math.floor(0.7 * df_numpy.shape[0]), replace=False)"
   ]
  },
  {
   "cell_type": "code",
   "execution_count": null,
   "id": "c6e61b58-f52a-4615-af67-6ec0853f0276",
   "metadata": {},
   "outputs": [],
   "source": [
    "print(testSample)"
   ]
  },
  {
   "cell_type": "code",
   "execution_count": null,
   "id": "3a230144-3ced-4235-9371-227284ce7056",
   "metadata": {},
   "outputs": [],
   "source": [
    "print(df_numpy[testSample])\n",
    "\n",
    "train = df_numpy[testSample]\n",
    "test = df_numpy[~testSample]\n",
    "\n",
    "print(\"Train length: \" + str(train.shape[0]))\n",
    "print(\"Test lenght: \" + str(test.shape[0]))"
   ]
  },
  {
   "cell_type": "code",
   "execution_count": null,
   "id": "300e2131-3337-4d37-a69f-8657d5f72261",
   "metadata": {},
   "outputs": [],
   "source": [
    "df_copy_y = df_copy['Revenue']\n",
    "df_copy_x = df_copy.loc[:, df_copy.columns != 'Revenue']\n",
    "\n",
    "#print(df_copy_y)\n",
    "#print(df_copy_x)"
   ]
  },
  {
   "cell_type": "code",
   "execution_count": null,
   "id": "37d6761f-73ed-4568-a364-074442240714",
   "metadata": {},
   "outputs": [],
   "source": [
    "df_copy_x_train, df_copy_x_test, df_copy_y_train, df_copy_y_test = train_test_split(\n",
    "    df_copy_x, df_copy_y, test_size=0.3, random_state=42)"
   ]
  },
  {
   "cell_type": "code",
   "execution_count": null,
   "id": "d127f0f5-e20f-4c7b-82b7-bd31b294dfff",
   "metadata": {},
   "outputs": [],
   "source": [
    "numpy_x_train = df_copy_x_train.to_numpy()\n",
    "numpy_x_test = df_copy_x_test.to_numpy()\n",
    "numpy_y_train = df_copy_y_train.to_numpy()\n",
    "numpy_y_test = df_copy_y_test.to_numpy()\n",
    "\n",
    "num_classes = 2\n",
    "\n",
    "input_shape = (11, 1)\n",
    "\n",
    "# Make sure images have shape (28, 28, 1)\n",
    "numpy_x_train = np.expand_dims(numpy_x_train, -1)\n",
    "numpy_x_test = np.expand_dims(numpy_x_test, -1)\n",
    "print(\"x_train shape:\", numpy_x_train.shape)\n",
    "print(numpy_x_train.shape[0], \"train samples\")\n",
    "print(numpy_x_test.shape[0], \"test samples\")\n",
    "\n",
    "# convert class vectors to binary class matrices\n",
    "numpy_y_train = keras.utils.to_categorical(numpy_y_train, num_classes)\n",
    "numpy_y_test = keras.utils.to_categorical(numpy_y_test, num_classes)\n",
    "\n",
    "print(\"y_train shape: \", numpy_y_train.shape)"
   ]
  },
  {
   "cell_type": "code",
   "execution_count": null,
   "id": "8161745c-f7fa-4fb3-8449-fc3655b1a379",
   "metadata": {},
   "outputs": [],
   "source": [
    "model = keras.Sequential(\n",
    "    [\n",
    "        keras.Input(shape=input_shape),\n",
    "        layers.Dense(10, activation=\"relu\"),\n",
    "        layers.Flatten(),\n",
    "        layers.Dropout(dropOut),\n",
    "        layers.Dense(num_classes, activation=\"softmax\"),\n",
    "    ]\n",
    ")\n",
    "\n",
    "model.summary()"
   ]
  },
  {
   "cell_type": "code",
   "execution_count": null,
   "id": "4777fe3d-ada5-404e-80c5-5d87cae8fb8f",
   "metadata": {},
   "outputs": [],
   "source": [
    "model.compile(loss=\"mean_squared_error\", optimizer=\"adam\", \n",
    "              metrics=[\"accuracy\"])\n",
    "\n",
    "model.fit(numpy_x_train, numpy_y_train, batch_size=batch_size, \n",
    "          epochs=epochs, validation_split=0.1)"
   ]
  },
  {
   "cell_type": "code",
   "execution_count": null,
   "id": "35eece91-b6b7-4c95-a613-bd37fd0b5ffd",
   "metadata": {},
   "outputs": [],
   "source": [
    "predicted = model.predict(numpy_x_test)"
   ]
  },
  {
   "cell_type": "code",
   "execution_count": null,
   "id": "b2b2d3f6-6bd7-4266-83fe-5e3aa04c4647",
   "metadata": {},
   "outputs": [],
   "source": [
    "print(\"numpy_y_test shape: \", numpy_y_test.shape)\n",
    "print(numpy_y_test)\n",
    "print(\"predicted: \", predicted.shape)\n",
    "print(predicted)"
   ]
  },
  {
   "cell_type": "code",
   "execution_count": null,
   "id": "d70f49b5-72e1-419c-a947-f1352b97cfca",
   "metadata": {},
   "outputs": [],
   "source": [
    "acc, tpr, tnr, f1 = genResults(numpy_y_test, predicted)\n",
    "\n",
    "print(\"10 layers:\")\n",
    "print(\"Accuracy: \", acc)\n",
    "print(\"True-positive rate: \", tpr)\n",
    "print(\"True-negative rate: \", tnr)\n",
    "print(\"F1 Score: \", f1)"
   ]
  },
  {
   "cell_type": "code",
   "execution_count": null,
   "id": "d700b66f-655b-4b0f-9016-35123e245b79",
   "metadata": {},
   "outputs": [],
   "source": [
    "model20 = keras.Sequential(\n",
    "    [\n",
    "        keras.Input(shape=input_shape),\n",
    "        layers.Dense(20, activation=\"relu\"),\n",
    "        layers.Flatten(),\n",
    "        layers.Dropout(dropOut),\n",
    "        layers.Dense(num_classes, activation=\"softmax\"),\n",
    "    ]\n",
    ")\n",
    "\n",
    "model20.summary()"
   ]
  },
  {
   "cell_type": "code",
   "execution_count": null,
   "id": "cca41d27-2f21-4185-af55-b322f22aa718",
   "metadata": {},
   "outputs": [],
   "source": [
    "model20.compile(loss=\"mean_squared_error\", optimizer=\"adam\", \n",
    "              metrics=[\"accuracy\"])\n",
    "\n",
    "model20.fit(numpy_x_train, numpy_y_train, batch_size=batch_size, \n",
    "          epochs=epochs, validation_split=0.1)"
   ]
  },
  {
   "cell_type": "code",
   "execution_count": null,
   "id": "ced060f9-f2dd-4a67-aafa-c4204db49b22",
   "metadata": {},
   "outputs": [],
   "source": [
    "predicted20 = model20.predict(numpy_x_test)"
   ]
  },
  {
   "cell_type": "code",
   "execution_count": null,
   "id": "5ca252d1-a531-4117-a914-179e21ffe83d",
   "metadata": {},
   "outputs": [],
   "source": [
    "print(\"numpy_y_test shape: \", numpy_y_test.shape)\n",
    "print(numpy_y_test)\n",
    "print(\"predicted: \", predicted20.shape)\n",
    "print(predicted)"
   ]
  },
  {
   "cell_type": "code",
   "execution_count": null,
   "id": "47f8fb81-e9aa-436c-968b-c1e7f3fcea96",
   "metadata": {},
   "outputs": [],
   "source": [
    "acc20, tpr20, tnr20, f120 = genResults(numpy_y_test, predicted20)\n",
    "\n",
    "print(\"20 layers:\")\n",
    "print(\"Accuracy: \", acc20)\n",
    "print(\"True-positive rate: \", tpr20)\n",
    "print(\"True-negative rate: \", tnr20)\n",
    "print(\"F1 Score: \", f120)"
   ]
  },
  {
   "cell_type": "code",
   "execution_count": null,
   "id": "c02dcc94-cd6a-4d85-ace9-c1c9ad782643",
   "metadata": {},
   "outputs": [],
   "source": [
    "model40 = keras.Sequential(\n",
    "    [\n",
    "        keras.Input(shape=input_shape),\n",
    "        layers.Dense(40, activation=\"relu\"),\n",
    "        layers.Flatten(),\n",
    "        layers.Dropout(dropOut),\n",
    "        layers.Dense(num_classes, activation=\"softmax\"),\n",
    "    ]\n",
    ")\n",
    "\n",
    "model40.summary()"
   ]
  },
  {
   "cell_type": "code",
   "execution_count": null,
   "id": "aa7b3aff-e24d-4b7c-a764-15b0306dfbeb",
   "metadata": {},
   "outputs": [],
   "source": [
    "model40.compile(loss=\"mean_squared_error\", optimizer=\"adam\", \n",
    "              metrics=[\"accuracy\"])\n",
    "\n",
    "model40.fit(numpy_x_train, numpy_y_train, batch_size=batch_size, \n",
    "          epochs=epochs, validation_split=0.1)"
   ]
  },
  {
   "cell_type": "code",
   "execution_count": null,
   "id": "339451b2-4384-4672-8d2e-587059935e87",
   "metadata": {},
   "outputs": [],
   "source": [
    "predicted40 = model40.predict(numpy_x_test)"
   ]
  },
  {
   "cell_type": "code",
   "execution_count": null,
   "id": "4e0ccab9-d977-4dba-b082-34970fa3cbd3",
   "metadata": {},
   "outputs": [],
   "source": [
    "acc40, tpr40, tnr40, f140 = genResults(numpy_y_test, predicted40)\n",
    "\n",
    "print(\"40 layers:\")\n",
    "print(\"Accuracy: \", acc40)\n",
    "print(\"True-positive rate: \", tpr40)\n",
    "print(\"True-negative rate: \", tnr40)\n",
    "print(\"F1 Score: \", f140)"
   ]
  },
  {
   "cell_type": "code",
   "execution_count": null,
   "id": "f03a3d02-4cc8-49d3-a144-f7e4915fe884",
   "metadata": {},
   "outputs": [],
   "source": [
    "# now we try oversampling\n",
    "ros = RandomOverSampler(random_state=42)\n",
    "df_copy_x_resampled, df_copy_y_resampled = ros.fit_resample(df_copy_x, df_copy_y)\n",
    "\n",
    "df_copy_x_resampled_train, df_copy_x__resampled_test, df_copy_y_resampled_train, df_copy_y_resampled_test = train_test_split(\n",
    "    df_copy_x_resampled, df_copy_y_resampled, test_size=0.3, random_state=42)"
   ]
  },
  {
   "cell_type": "code",
   "execution_count": null,
   "id": "233f1495-9c8a-4911-85fa-f712604d8002",
   "metadata": {},
   "outputs": [],
   "source": [
    "numpy_x_resampled_train = df_copy_x_resampled_train.to_numpy()\n",
    "numpy_x_resampled_test = df_copy_x__resampled_test.to_numpy()\n",
    "numpy_y_resampled_train = df_copy_y_resampled_train.to_numpy()\n",
    "numpy_y_resampled_test = df_copy_y_resampled_test.to_numpy()\n",
    "\n",
    "num_classes = 2\n",
    "\n",
    "input_shape = (11, 1)\n",
    "\n",
    "# Make sure images have shape (28, 28, 1)\n",
    "numpy_x_resampled_train = np.expand_dims(numpy_x_resampled_train, -1)\n",
    "numpy_x_resampled_test = np.expand_dims(numpy_x_resampled_test, -1)\n",
    "print(\"x_train shape:\", numpy_x_resampled_train.shape)\n",
    "print(numpy_x_resampled_train.shape[0], \"train samples\")\n",
    "print(numpy_x_resampled_test.shape[0], \"test samples\")\n",
    "\n",
    "# convert class vectors to binary class matrices\n",
    "numpy_y_resampled_train = keras.utils.to_categorical(numpy_y_resampled_train, num_classes)\n",
    "numpy_y_resampled_test = keras.utils.to_categorical(numpy_y_resampled_test, num_classes)\n",
    "\n",
    "print(\"y_train shape: \", numpy_y_resampled_train.shape)"
   ]
  },
  {
   "cell_type": "code",
   "execution_count": null,
   "id": "f4938068-d7b8-4150-aca9-83a6d9d339e4",
   "metadata": {},
   "outputs": [],
   "source": [
    "model_r = keras.Sequential(\n",
    "    [\n",
    "        keras.Input(shape=input_shape),\n",
    "        layers.Dense(10, activation=\"relu\"),\n",
    "        layers.Flatten(),\n",
    "        layers.Dropout(dropOut),\n",
    "        layers.Dense(num_classes, activation=\"softmax\"),\n",
    "    ]\n",
    ")\n",
    "\n",
    "model_r.summary()"
   ]
  },
  {
   "cell_type": "code",
   "execution_count": null,
   "id": "02e50ed4-aacd-47d0-a88f-5ce016843cd1",
   "metadata": {},
   "outputs": [],
   "source": [
    "model_r.compile(loss=\"mean_squared_error\", optimizer=\"adam\", \n",
    "              metrics=[\"accuracy\"])\n",
    "\n",
    "model_r.fit(numpy_x_resampled_train, numpy_y_resampled_train, batch_size=batch_size, \n",
    "          epochs=epochs, validation_split=0.1)"
   ]
  },
  {
   "cell_type": "code",
   "execution_count": null,
   "id": "c12efd93-cc1e-4a31-ba2f-39a36cd5f498",
   "metadata": {},
   "outputs": [],
   "source": [
    "predicted_r = model_r.predict(numpy_x_resampled_test)"
   ]
  },
  {
   "cell_type": "code",
   "execution_count": null,
   "id": "fb3b27ad-c0b9-4245-a04a-50c44f720bab",
   "metadata": {},
   "outputs": [],
   "source": [
    "acc_r, tpr_r, tnr_r, f1_r = genResults(numpy_y_resampled_test, predicted_r)\n",
    "\n",
    "print(\"10 layers:\")\n",
    "print(\"Accuracy: \", acc_r)\n",
    "print(\"True-positive rate: \", tpr_r)\n",
    "print(\"True-negative rate: \", tnr_r)\n",
    "print(\"F1 Score: \", f1_r)"
   ]
  },
  {
   "cell_type": "code",
   "execution_count": null,
   "id": "a5a4cfd1-9462-4fab-8f55-1543ffeccb44",
   "metadata": {},
   "outputs": [],
   "source": [
    "model_r_20 = keras.Sequential(\n",
    "    [\n",
    "        keras.Input(shape=input_shape),\n",
    "        layers.Dense(20, activation=\"relu\"),\n",
    "        layers.Flatten(),\n",
    "        layers.Dropout(dropOut),\n",
    "        layers.Dense(num_classes, activation=\"softmax\"),\n",
    "    ]\n",
    ")\n",
    "\n",
    "model_r_20.summary()"
   ]
  },
  {
   "cell_type": "code",
   "execution_count": null,
   "id": "b4d13e26-a6ae-4e49-bd7c-050bf5dbbe38",
   "metadata": {},
   "outputs": [],
   "source": [
    "model_r_20.compile(loss=\"mean_squared_error\", optimizer=\"adam\", \n",
    "              metrics=[\"accuracy\"])\n",
    "\n",
    "model_r_20.fit(numpy_x_resampled_train, numpy_y_resampled_train, batch_size=batch_size, \n",
    "          epochs=epochs, validation_split=0.1)"
   ]
  },
  {
   "cell_type": "code",
   "execution_count": null,
   "id": "03e4f97c-810d-4d63-b534-0a11874a2d8a",
   "metadata": {},
   "outputs": [],
   "source": [
    "predicted_r_20 = model_r_20.predict(numpy_x_resampled_test)"
   ]
  },
  {
   "cell_type": "code",
   "execution_count": null,
   "id": "bbea4ec0-1fbb-4595-a26f-cfb855a5105e",
   "metadata": {},
   "outputs": [],
   "source": [
    "acc_r_20, tpr_r_20, tnr_r_20, f1_r_20 = genResults(numpy_y_resampled_test, predicted_r_20)\n",
    "\n",
    "print(\"20 layers:\")\n",
    "print(\"Accuracy: \", acc_r_20)\n",
    "print(\"True-positive rate: \", tpr_r_20)\n",
    "print(\"True-negative rate: \", tnr_r_20)\n",
    "print(\"F1 Score: \", f1_r_20)"
   ]
  },
  {
   "cell_type": "code",
   "execution_count": null,
   "id": "0d5cc9d9-15c3-45d5-8728-54b33315bfa6",
   "metadata": {},
   "outputs": [],
   "source": [
    "model_r_40 = keras.Sequential(\n",
    "    [\n",
    "        keras.Input(shape=input_shape),\n",
    "        layers.Dense(40, activation=\"relu\"),\n",
    "        layers.Flatten(),\n",
    "        layers.Dropout(dropOut),\n",
    "        layers.Dense(num_classes, activation=\"softmax\"),\n",
    "    ]\n",
    ")\n",
    "\n",
    "model_r_40.summary()"
   ]
  },
  {
   "cell_type": "code",
   "execution_count": null,
   "id": "f497edfa-7830-45bc-8920-a28257b2da4e",
   "metadata": {},
   "outputs": [],
   "source": [
    "model_r_40.compile(loss=\"mean_squared_error\", optimizer=\"adam\", \n",
    "              metrics=[\"accuracy\"])\n",
    "\n",
    "model_r_40.fit(numpy_x_resampled_train, numpy_y_resampled_train, batch_size=batch_size, \n",
    "          epochs=epochs, validation_split=0.1)"
   ]
  },
  {
   "cell_type": "code",
   "execution_count": null,
   "id": "67bbf212-e706-4223-ae59-42886bbea930",
   "metadata": {},
   "outputs": [],
   "source": [
    "predicted_r_40 = model_r_40.predict(numpy_x_resampled_test)"
   ]
  },
  {
   "cell_type": "code",
   "execution_count": null,
   "id": "89b8e425-4941-4754-915b-a6da14013fa3",
   "metadata": {},
   "outputs": [],
   "source": [
    "acc_r_40, tpr_r_40, tnr_r_40, f1_r_40 = genResults(numpy_y_resampled_test, predicted_r_40)\n",
    "\n",
    "print(\"40 layers:\")\n",
    "print(\"Accuracy: \", acc_r_40)\n",
    "print(\"True-positive rate: \", tpr_r_40)\n",
    "print(\"True-negative rate: \", tnr_r_40)\n",
    "print(\"F1 Score: \", f1_r_40)"
   ]
  },
  {
   "cell_type": "code",
   "execution_count": null,
   "id": "55b48978-5f35-43c0-8e5f-c75488e35e11",
   "metadata": {},
   "outputs": [],
   "source": [
    "# Now we need to repeat it all - starting with 20 nodes I think, but with a much smaller fraction\n",
    "small_x_resampled_train, small_x_resampled_test, small_y_resampled_train, small_y_resampled_test = train_test_split(\n",
    "    df_copy_x_resampled, df_copy_y_resampled, test_size=0.8, random_state=42)\n",
    "\n",
    "numpy_small_x_train = small_x_resampled_train.to_numpy()\n",
    "numpy_small_x_test = small_x_resampled_test.to_numpy()\n",
    "numpy_small_y_train = small_y_resampled_train.to_numpy()\n",
    "numpy_small_y_test = small_y_resampled_test.to_numpy()\n",
    "\n",
    "num_classes = 2\n",
    "\n",
    "input_shape = (11, 1)\n",
    "\n",
    "# Make sure images have shape (11, 1)\n",
    "numpy_small_x_train = np.expand_dims(numpy_small_x_train, -1)\n",
    "numpy_small_x_test = np.expand_dims(numpy_small_x_test, -1)\n",
    "print(\"x_train shape:\", numpy_small_x_train.shape)\n",
    "print(numpy_small_x_train.shape[0], \"train samples\")\n",
    "print(numpy_small_x_test.shape[0], \"test samples\")\n",
    "\n",
    "# convert class vectors to binary class matrices\n",
    "numpy_small_y_train = keras.utils.to_categorical(numpy_small_y_train, num_classes)\n",
    "numpy_small_y_test = keras.utils.to_categorical(numpy_small_y_test, num_classes)\n",
    "\n",
    "print(\"y_train shape: \", numpy_small_y_train.shape)"
   ]
  },
  {
   "cell_type": "code",
   "execution_count": null,
   "id": "c3546f99-a8b3-42fb-b2b4-56aed4e2723d",
   "metadata": {},
   "outputs": [],
   "source": [
    "model_small_r_20 = keras.Sequential(\n",
    "    [\n",
    "        keras.Input(shape=input_shape),\n",
    "        layers.Dense(20, activation=\"relu\"),\n",
    "        layers.Flatten(),\n",
    "        layers.Dropout(dropOut),\n",
    "        layers.Dense(num_classes, activation=\"softmax\"),\n",
    "    ]\n",
    ")\n",
    "\n",
    "model_small_r_20.summary()"
   ]
  },
  {
   "cell_type": "code",
   "execution_count": null,
   "id": "a2dd16c9-58af-4568-9c46-d80acbe38920",
   "metadata": {},
   "outputs": [],
   "source": [
    "model_small_r_20.compile(loss=\"mean_squared_error\", optimizer=\"adam\", \n",
    "              metrics=[\"accuracy\"])\n",
    "\n",
    "model_small_r_20.fit(numpy_small_x_train, numpy_small_y_train, batch_size=batch_size, \n",
    "          epochs=epochs, validation_split=0.1)"
   ]
  },
  {
   "cell_type": "code",
   "execution_count": null,
   "id": "e524736d-89cc-4ba3-a1a9-315e4ee31267",
   "metadata": {},
   "outputs": [],
   "source": [
    "predicted_r_small_20 = model_small_r_20.predict(numpy_small_x_test)"
   ]
  },
  {
   "cell_type": "code",
   "execution_count": null,
   "id": "deb19929-c44c-4483-a842-3adc6b4d1e93",
   "metadata": {},
   "outputs": [],
   "source": [
    "print(small_y_resampled_test.shape)\n",
    "print(predicted_r_small_20.shape)"
   ]
  },
  {
   "cell_type": "code",
   "execution_count": null,
   "id": "f527b69f-7391-45cf-800e-150996081caa",
   "metadata": {},
   "outputs": [],
   "source": [
    "acc_r_small_20, tpr_r_small_20, tnr_r_small_20, f1_r_small_20 = genResults(numpy_small_y_test, predicted_r_small_20)\n",
    "\n",
    "print(\"Small resampled 20 layers:\")\n",
    "print(\"Accuracy: \", acc_r_small_20)\n",
    "print(\"True-positive rate: \", tpr_r_small_20)\n",
    "print(\"True-negative rate: \", tnr_r_small_20)\n",
    "print(\"F1 Score: \", f1_r_small_20)"
   ]
  },
  {
   "cell_type": "code",
   "execution_count": null,
   "id": "348556cd-b17e-4236-8066-d962de00a539",
   "metadata": {},
   "outputs": [],
   "source": []
  }
 ],
 "metadata": {
  "kernelspec": {
   "display_name": "Python 3 (ipykernel)",
   "language": "python",
   "name": "python3"
  },
  "language_info": {
   "codemirror_mode": {
    "name": "ipython",
    "version": 3
   },
   "file_extension": ".py",
   "mimetype": "text/x-python",
   "name": "python",
   "nbconvert_exporter": "python",
   "pygments_lexer": "ipython3",
   "version": "3.12.7"
  }
 },
 "nbformat": 4,
 "nbformat_minor": 5
}
